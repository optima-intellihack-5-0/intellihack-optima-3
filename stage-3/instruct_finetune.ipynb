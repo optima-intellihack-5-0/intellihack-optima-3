{
 "cells": [
  {
   "cell_type": "code",
   "execution_count": null,
   "id": "898d158d-7567-4838-a4e7-7c567195035c",
   "metadata": {},
   "outputs": [],
   "source": [
    "import torch\n",
    "from peft import PeftModel, PeftConfig\n",
    "from transformers import AutoTokenizer, AutoModelForCausalLM, BitsAndBytesConfig\n",
    "\n",
    "peft_checkpoint = \"outputs/checkpoint-20\"\n",
    "\n",
    "peft_config = PeftConfig.from_pretrained(peft_checkpoint)\n",
    "\n",
    "base_model_name = peft_config.base_model_name_or_path\n",
    "\n",
    "bnb_config = BitsAndBytesConfig(\n",
    "    load_in_4bit=True,\n",
    "    bnb_4bit_use_double_quant=True,\n",
    "    bnb_4bit_quant_type=\"nf4\",\n",
    "    bnb_4bit_compute_dtype=torch.bfloat16\n",
    ")\n",
    "\n",
    "model = AutoModelForCausalLM.from_pretrained(\n",
    "    base_model_name,\n",
    "    quantization_config=bnb_config, \n",
    "    device_map=\"auto\",\n",
    ")\n",
    "\n",
    "model = PeftModel.from_pretrained(model, peft_checkpoint)\n",
    "\n",
    "model.train()\n",
    "\n",
    "tokenizer = AutoTokenizer.from_pretrained(base_model_name)"
   ]
  },
  {
   "cell_type": "code",
   "execution_count": 2,
   "id": "8050431e-dc0b-412a-a409-5abbf8c03378",
   "metadata": {},
   "outputs": [],
   "source": [
    "from peft import LoraConfig\n",
    "\n",
    "peft_config = LoraConfig(\n",
    "    lora_alpha=16,\n",
    "    lora_dropout=0.1,\n",
    "    r=64,\n",
    "    bias=\"none\",\n",
    "    task_type=\"CAUSAL_LM\",\n",
    ")"
   ]
  },
  {
   "cell_type": "code",
   "execution_count": 3,
   "id": "fccd6b1a-fef9-4599-8451-f67fb611b1f4",
   "metadata": {},
   "outputs": [],
   "source": [
    "model.add_adapter(peft_config=peft_config, adapter_name=\"t2\")"
   ]
  },
  {
   "cell_type": "code",
   "execution_count": 4,
   "id": "37e2fa3b-164b-4c20-a89a-c725ac16bd6c",
   "metadata": {},
   "outputs": [],
   "source": [
    "from datasets import load_dataset\n",
    "\n",
    "dataset = load_dataset(\"json\",data_files={\"train\": \"data.jsonl\"}, split=\"train\")"
   ]
  },
  {
   "cell_type": "code",
   "execution_count": null,
   "id": "d3011ea2-ec7e-45bb-b5c6-b866eec9a636",
   "metadata": {},
   "outputs": [],
   "source": [
    "dataset"
   ]
  },
  {
   "cell_type": "code",
   "execution_count": null,
   "id": "8ead2ba2-e2a6-4611-8b91-3dfffaa73a97",
   "metadata": {},
   "outputs": [],
   "source": [
    "train_val_split = dataset.train_test_split(test_size=0.1)\n",
    "\n",
    "train_dataset = train_val_split['train']\n",
    "val_dataset = train_val_split['test']\n",
    "\n",
    "print(f\"Training set size: {len(train_dataset)}\")\n",
    "print(f\"Validation set size: {len(val_dataset)}\")"
   ]
  },
  {
   "cell_type": "code",
   "execution_count": 7,
   "id": "bc3f7fe6-85eb-4c5b-bf4a-85105091a006",
   "metadata": {},
   "outputs": [],
   "source": [
    "from trl import SFTConfig, SFTTrainer\n",
    "\n",
    "sft_config = SFTConfig(\n",
    "    gradient_checkpointing=True,\n",
    "    gradient_checkpointing_kwargs={'use_reentrant': False}, \n",
    "    gradient_accumulation_steps=1,  \n",
    "    per_device_train_batch_size=16, \n",
    "    auto_find_batch_size=True,\n",
    "    max_seq_length=64,\n",
    "    packing=True,\n",
    "    learning_rate=3e-4,\n",
    "    optim='paged_adamw_8bit',\n",
    "    fp16=True,\n",
    "    logging_steps=1,\n",
    "    save_strategy=\"steps\",\n",
    "    save_steps=20,\n",
    "    save_total_limit=3,\n",
    "    report_to=[\"wandb\"], \n",
    "    run_name=\"finetune\",\n",
    "    num_train_epochs=60,\n",
    "    eval_strategy=\"steps\",\n",
    "    eval_steps=20,\n",
    "    do_eval=True,\n",
    ")\n"
   ]
  },
  {
   "cell_type": "code",
   "execution_count": null,
   "id": "6f9d44f6-e8bc-45f9-9761-547b3061ecbe",
   "metadata": {},
   "outputs": [],
   "source": [
    "model.config.use_cache = False  \n",
    "trainer = SFTTrainer(\n",
    "    model=model,\n",
    "    processing_class=tokenizer,\n",
    "    args=sft_config,\n",
    "    train_dataset=train_dataset,\n",
    "    eval_dataset=val_dataset,\n",
    ")"
   ]
  },
  {
   "cell_type": "code",
   "execution_count": null,
   "id": "1ab172a2-a06f-4b23-a152-b2a743e89cea",
   "metadata": {},
   "outputs": [],
   "source": [
    "trainer.train()"
   ]
  }
 ],
 "metadata": {
  "kernelspec": {
   "display_name": "conda_pytorch_p310",
   "language": "python",
   "name": "conda_pytorch_p310"
  },
  "language_info": {
   "codemirror_mode": {
    "name": "ipython",
    "version": 3
   },
   "file_extension": ".py",
   "mimetype": "text/x-python",
   "name": "python",
   "nbconvert_exporter": "python",
   "pygments_lexer": "ipython3",
   "version": "3.10.14"
  }
 },
 "nbformat": 4,
 "nbformat_minor": 5
}
